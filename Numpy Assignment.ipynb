{
 "cells": [
  {
   "cell_type": "markdown",
   "id": "1dc5dd61-3674-4a44-9559-c0fefd5cf46f",
   "metadata": {},
   "source": [
    "Q 1. Difference in the data type of variables list_ and array_list."
   ]
  },
  {
   "cell_type": "markdown",
   "id": "0158077a-fefc-4e5d-85a9-0700b2f6fe41",
   "metadata": {},
   "source": [
    "In the provided code, the variable list_ is a Python list containing string elements, while array_list is a NumPy array. The difference in data types is that the elements in the list are of type string, whereas the elements in the NumPy array would be of type numpy.str_.\n",
    "\n",
    "To print the data types of both variables,we can use the type() function. Here's an example code:-"
   ]
  },
  {
   "cell_type": "markdown",
   "id": "644a6b1c-8ac5-4a4f-80a0-e0889b1fb170",
   "metadata": {},
   "source": [
    "In the provided code, the variable list_ is a Python list containing string elements, while array_list is a NumPy array. The difference in data types is that the elements in the list are of type string, whereas the elements in the NumPy array would be of type numpy.str_.\n",
    "\n",
    "To print the data types of both variables, you can use the type() function. Here's an example code snippet:"
   ]
  },
  {
   "cell_type": "code",
   "execution_count": 11,
   "id": "686baa4b-c125-4364-9426-305c9f321993",
   "metadata": {},
   "outputs": [],
   "source": [
    "import numpy as np\n",
    "list_ = ['1', '2', '3', '4', '5']\n",
    "array_list = np.array(object=list_) "
   ]
  },
  {
   "cell_type": "code",
   "execution_count": 4,
   "id": "7bcf9689-3c9d-4539-9cfa-636379781118",
   "metadata": {},
   "outputs": [
    {
     "name": "stdout",
     "output_type": "stream",
     "text": [
      "<class 'list'>\n"
     ]
    }
   ],
   "source": [
    "print(type(list_))"
   ]
  },
  {
   "cell_type": "markdown",
   "id": "33b65c95-f2f4-44b1-a588-4cd5942d58c9",
   "metadata": {},
   "source": [
    "Q 2.  Write a code to print the data type of each and every element of both the variables list_ and\n",
    "arra_list."
   ]
  },
  {
   "cell_type": "code",
   "execution_count": 5,
   "id": "c8987c88-a69f-4f90-ab3d-222f029a1527",
   "metadata": {},
   "outputs": [
    {
     "name": "stdout",
     "output_type": "stream",
     "text": [
      "Data type of array_list: <class 'numpy.ndarray'>\n"
     ]
    }
   ],
   "source": [
    "print(\"Data type of array_list:\", type(array_list))"
   ]
  },
  {
   "cell_type": "code",
   "execution_count": 6,
   "id": "f25f1d4a-8ac7-4e4f-b030-d091b9b77c9b",
   "metadata": {},
   "outputs": [],
   "source": [
    "import numpy as np"
   ]
  },
  {
   "cell_type": "code",
   "execution_count": 8,
   "id": "ec96d7fa-b879-4c40-a5be-49cedfce737a",
   "metadata": {},
   "outputs": [],
   "source": [
    "list_ = ['1', '2', '3', '4', '5']\n",
    "array_list = np.array(object=list_)"
   ]
  },
  {
   "cell_type": "code",
   "execution_count": 9,
   "id": "0625ea68-d448-4e83-b13c-2ad75dd3bc05",
   "metadata": {},
   "outputs": [
    {
     "name": "stdout",
     "output_type": "stream",
     "text": [
      "Data types of elements in list_:\n",
      "<class 'str'>\n",
      "<class 'str'>\n",
      "<class 'str'>\n",
      "<class 'str'>\n",
      "<class 'str'>\n"
     ]
    }
   ],
   "source": [
    "print(\"Data types of elements in list_:\")\n",
    "for element in list_:\n",
    "    print(type(element))\n"
   ]
  },
  {
   "cell_type": "code",
   "execution_count": 10,
   "id": "e45e65d6-ebde-4264-9040-ee2f7d394e97",
   "metadata": {},
   "outputs": [
    {
     "name": "stdout",
     "output_type": "stream",
     "text": [
      "Data types of elements in array_list:\n",
      "<class 'numpy.str_'>\n",
      "<class 'numpy.str_'>\n",
      "<class 'numpy.str_'>\n",
      "<class 'numpy.str_'>\n",
      "<class 'numpy.str_'>\n"
     ]
    }
   ],
   "source": [
    "print(\"Data types of elements in array_list:\")\n",
    "for element in array_list:\n",
    "    print(type(element))"
   ]
  },
  {
   "cell_type": "markdown",
   "id": "b20dd5f7-2f1d-435e-b663-dcc54496c091",
   "metadata": {},
   "source": [
    "Q 3.Changes in the variable, array_list:"
   ]
  },
  {
   "cell_type": "code",
   "execution_count": 13,
   "id": "1e096d3d-898f-4781-8090-6bec93b6b933",
   "metadata": {},
   "outputs": [],
   "source": [
    "import numpy as np\n",
    "\n",
    "num_list = [ [ 1 , 2 , 3 ] , [ 4 , 5 , 6 ] ]\n",
    "\n",
    "num_array = np.array(object = num_list)"
   ]
  },
  {
   "cell_type": "code",
   "execution_count": 15,
   "id": "1f821714-5a34-4dfb-b564-cfd8d48c5046",
   "metadata": {},
   "outputs": [
    {
     "name": "stdout",
     "output_type": "stream",
     "text": [
      "Data types in the nested list:\n",
      "<class 'int'>\n",
      "<class 'int'>\n",
      "<class 'int'>\n",
      "<class 'int'>\n",
      "<class 'int'>\n",
      "<class 'int'>\n"
     ]
    }
   ],
   "source": [
    "print(\"Data types in the nested list:\")\n",
    "for sublist in num_list:\n",
    "    for element in sublist:\n",
    "        print(type(element))"
   ]
  },
  {
   "cell_type": "code",
   "execution_count": 16,
   "id": "121a8440-64fd-46aa-adaa-b0b263363d0b",
   "metadata": {},
   "outputs": [
    {
     "name": "stdout",
     "output_type": "stream",
     "text": [
      "Data types in the NumPy array:\n",
      "<class 'numpy.int64'>\n",
      "<class 'numpy.int64'>\n",
      "<class 'numpy.int64'>\n",
      "<class 'numpy.int64'>\n",
      "<class 'numpy.int64'>\n",
      "<class 'numpy.int64'>\n"
     ]
    }
   ],
   "source": [
    "print(\"Data types in the NumPy array:\")\n",
    "for element in num_array.flatten():\n",
    "    print(type(element))"
   ]
  },
  {
   "cell_type": "code",
   "execution_count": 17,
   "id": "5bcd1c39-0e88-436f-ae71-f047888834b6",
   "metadata": {},
   "outputs": [],
   "source": [
    "array_list = np.array(object = list_, dtype = int)"
   ]
  },
  {
   "cell_type": "code",
   "execution_count": 18,
   "id": "feba82fb-a655-4e35-872b-4986148af8b5",
   "metadata": {},
   "outputs": [
    {
     "name": "stdout",
     "output_type": "stream",
     "text": [
      "Data types in the nested list:\n",
      "<class 'int'>\n",
      "<class 'int'>\n",
      "<class 'int'>\n",
      "<class 'int'>\n",
      "<class 'int'>\n",
      "<class 'int'>\n"
     ]
    }
   ],
   "source": [
    "print(\"Data types in the nested list:\")\n",
    "for sublist in num_list:\n",
    "    for element in sublist:\n",
    "        print(type(element))"
   ]
  },
  {
   "cell_type": "code",
   "execution_count": 19,
   "id": "a8647a51-9958-49c3-bb9c-fea7b60fde5c",
   "metadata": {},
   "outputs": [
    {
     "name": "stdout",
     "output_type": "stream",
     "text": [
      "Data types in the NumPy array:\n",
      "<class 'numpy.int64'>\n",
      "<class 'numpy.int64'>\n",
      "<class 'numpy.int64'>\n",
      "<class 'numpy.int64'>\n",
      "<class 'numpy.int64'>\n",
      "<class 'numpy.int64'>\n"
     ]
    }
   ],
   "source": [
    "print(\"Data types in the NumPy array:\")\n",
    "for element in num_array.flatten():\n",
    "    print(type(element))"
   ]
  },
  {
   "cell_type": "markdown",
   "id": "eab9f168-9e33-45e6-8b11-b5fddbe1bdca",
   "metadata": {},
   "source": [
    "Q.4 Code to find the Shape and Size characteristics of variable, num_array"
   ]
  },
  {
   "cell_type": "code",
   "execution_count": 20,
   "id": "9e7d0234-8382-4f17-bbcb-7c639d467b67",
   "metadata": {},
   "outputs": [
    {
     "name": "stdout",
     "output_type": "stream",
     "text": [
      "Shape of num_array: (2, 3)\n",
      "Size of num_array: 6\n"
     ]
    }
   ],
   "source": [
    "import numpy as np\n",
    "\n",
    "num_list = [[1, 2, 3], [4, 5, 6]]\n",
    "num_array = np.array(object=num_list)\n",
    "shape = num_array.shape\n",
    "size = num_array.size\n",
    "print(\"Shape of num_array:\", shape)\n",
    "print(\"Size of num_array:\", size)"
   ]
  },
  {
   "cell_type": "markdown",
   "id": "3809ff2d-a4d9-47c0-9ca6-915488908f5d",
   "metadata": {},
   "source": [
    "Q 5. Code for creating arry 3*3"
   ]
  },
  {
   "cell_type": "code",
   "execution_count": 21,
   "id": "ff0293ed-e20b-4bba-a8a9-91838a34b6f4",
   "metadata": {},
   "outputs": [
    {
     "name": "stdout",
     "output_type": "stream",
     "text": [
      "[[0. 0. 0.]\n",
      " [0. 0. 0.]\n",
      " [0. 0. 0.]]\n"
     ]
    }
   ],
   "source": [
    "import numpy as np\n",
    "zeros_array = np.zeros((3, 3))\n",
    "print(zeros_array)"
   ]
  },
  {
   "cell_type": "markdown",
   "id": "0be41816-39aa-4961-9220-335a23200965",
   "metadata": {},
   "source": [
    "Q 6.Create an identity matrix of shape (5,5) using numpy functions?"
   ]
  },
  {
   "cell_type": "code",
   "execution_count": 23,
   "id": "a3447063-a239-4a2a-b36d-6076c877ae77",
   "metadata": {},
   "outputs": [
    {
     "name": "stdout",
     "output_type": "stream",
     "text": [
      "[[1. 0. 0. 0. 0.]\n",
      " [0. 1. 0. 0. 0.]\n",
      " [0. 0. 1. 0. 0.]\n",
      " [0. 0. 0. 1. 0.]\n",
      " [0. 0. 0. 0. 1.]]\n"
     ]
    }
   ],
   "source": [
    "import numpy as np\n",
    "identity_matrix = np.eye(5)\n",
    "print(identity_matrix)"
   ]
  },
  {
   "cell_type": "code",
   "execution_count": null,
   "id": "4c97259c-97da-425f-9d35-d8e44478bf2b",
   "metadata": {},
   "outputs": [],
   "source": []
  }
 ],
 "metadata": {
  "kernelspec": {
   "display_name": "Python 3 (ipykernel)",
   "language": "python",
   "name": "python3"
  },
  "language_info": {
   "codemirror_mode": {
    "name": "ipython",
    "version": 3
   },
   "file_extension": ".py",
   "mimetype": "text/x-python",
   "name": "python",
   "nbconvert_exporter": "python",
   "pygments_lexer": "ipython3",
   "version": "3.10.8"
  }
 },
 "nbformat": 4,
 "nbformat_minor": 5
}
